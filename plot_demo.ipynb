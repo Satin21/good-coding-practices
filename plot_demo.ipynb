{
 "cells": [
  {
   "cell_type": "code",
   "execution_count": 1,
   "source": [
    "import pandas as pd\n",
    "from matplotlib import pyplot as plt\n",
    "\n",
    "def plot_temperatures(temperatures, mean):\n",
    "\n",
    "    plt.plot(temperatures, \"r-\")\n",
    "    plt.xlabel('measurements')\n",
    "    plt.ylabel('Air temperature (degC)');\n",
    "\n",
    "    # plot results\n",
    "    plt.axhline(y=mean, color=\"b\", linestyle=\"--\")\n",
    "    plt.savefig(str(len(temperatures))+\".png\", format='png')\n",
    "    plt.show()\n",
    "    # plt.clf()\n",
    "\n",
    "for num_measurements in [25, 100, 500]:\n",
    "    # read data from file\n",
    "    data = pd.read_csv(\"temperatures.csv\", nrows=num_measurements)\n",
    "    temperatures = data[\"Air temperature (degC)\"]\n",
    "\n",
    "    # compute statistics\n",
    "    mean = sum(temperatures) / num_measurements\n",
    "\n",
    "    plot_temperatures(temperatures, mean)\n"
   ],
   "outputs": [
    {
     "output_type": "display_data",
     "data": {
      "text/plain": [
       "<Figure size 640x480 with 1 Axes>"
      ]
     },
     "metadata": {}
    }
   ],
   "metadata": {}
  },
  {
   "cell_type": "code",
   "execution_count": null,
   "source": [
    "import pandas as pd\n",
    "\n",
    "def get_column_names(file, print_columns=False):\n",
    "    \"\"\"\n",
    "    Return the column names from a excel file\n",
    "\n",
    "    Parameters:\n",
    "    -----------\n",
    "    file: str\n",
    "    Excel (.xls) file name (path)\n",
    "\n",
    "    print_columns: bool\n",
    "    Whether to print the columns\n",
    "\n",
    "    Return:\n",
    "    ------\n",
    "    columns_headers: list\n",
    "    \"\"\"\n",
    "   b = pd.read_excel(a)\n",
    "   column_headers = list(b.columns.values)\n",
    "   if print_columns:\n",
    "       print(\"\\n\".join(column_headers))\n",
    "   return column_headers"
   ],
   "outputs": [],
   "metadata": {}
  }
 ],
 "metadata": {
  "orig_nbformat": 4,
  "language_info": {
   "name": "python",
   "version": "3.6.8",
   "mimetype": "text/x-python",
   "codemirror_mode": {
    "name": "ipython",
    "version": 3
   },
   "pygments_lexer": "ipython3",
   "nbconvert_exporter": "python",
   "file_extension": ".py"
  },
  "kernelspec": {
   "name": "python3",
   "display_name": "Python 3.6.8 64-bit ('base': conda)"
  },
  "interpreter": {
   "hash": "c9590d7032ea884dfefbafe07253313ce5154fbe651f8bce5ea637ccc15b006b"
  }
 },
 "nbformat": 4,
 "nbformat_minor": 2
}